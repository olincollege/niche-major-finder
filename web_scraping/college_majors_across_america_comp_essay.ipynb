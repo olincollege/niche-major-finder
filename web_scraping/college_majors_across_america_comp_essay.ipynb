{
 "cells": [
  {
   "cell_type": "markdown",
   "metadata": {},
   "source": [
    "# Distribution of College Majors Across Tops Schools in America\n",
    "Authors:  Rucha, Emma, Jiayuan\n",
    "\n",
    "## Introduction\n",
    "\n",
    "College students take multiple factors into consideration when choosing their majors. Some of these factors are ranking of majors in their college, potential future career path and salary, personal interest, etc. But are there any correlations between students' choices of major at top schools and the states that they study in? In this computational essay, we tried to explore the answer to this question and discuss the methods we used to anaylize the statistics of students' major choices in different states. \n",
    "\n",
    "**Question:** Is there a correlation between the choice of major by students at top colleges and the state they study in? \n",
    "\n",
    "Here, top colleges is defined as the top 10% of colleges in each state as ranked by Niche.com. Our goal for this project was to explore the comparision of different majors in top schools across different states and see whether there are any patterns that come to light. We looked at both comparing results for different states and observing patterns across America as a whole.\n",
    "\n",
    "Understanding the correlation between state and popular major choice will explain to us how location, state policy and culture impact major choices in many colleges across America. This could potentially be useful for students who are applying for college by helping them gain insight into the distribution of learning resources across the US for different majors. Additionally, companies who are hiring for specific majors could understand whether there are certain locations to target their resources towards.\n",
    "\n",
    "The three main steps we took in this project were web scrapping the data, cleaning and organizing the data, and visulizing the data for results. Each is documented in details in the sections below.\n",
    "<br>\n",
    "<br>\n",
    "<br>\n",
    "Here are the import statements for our code which will ensure the essay runs properly:"
   ]
  },
  {
   "cell_type": "code",
   "execution_count": 1,
   "metadata": {},
   "outputs": [],
   "source": [
    "import pandas as pd\n",
    "pd.options.mode.chained_assignment = None\n",
    "import numpy as np\n",
    "import matplotlib.pyplot as plt\n",
    "\n",
    "# import data_visualization"
   ]
  },
  {
   "cell_type": "markdown",
   "metadata": {},
   "source": [
    "## Methodology\n",
    "### Scrapping Data\n",
    "We scrapped our data by programmatically accessing pages from `niche.com`, a well-known college evaluation website (with the usage of an agent, time delays and a VPN to avoid being blocked by the website). \n",
    "\n",
    "We began by scraping the website for the college list for each state in the US. This included public and private schools as well as trade schools. For each state, we gathered the first page of results. From here, we found the total number of colleges displayed on Niche for each state and programmatically looped through the `top 10%` ranked colleges from the list to get the number of students in each major. The ranking provided by niche, although probably biased and not completely reflective of a college's true value, gives us a list of the overall more influencial schools in each state. The data extracted for each of the top 10% of schools in each state was saved into csv in the folder `raw_data`.\n",
    "\n",
    "Each csv had a similar format with four columns: `State` , `Major` , `College` , `Student Number`.\n",
    "\n",
    "In total, we recorded 324 majors in 575 colleges across 50 states.\n",
    "<br>"
   ]
  },
  {
   "cell_type": "markdown",
   "metadata": {},
   "source": [
    "\n",
    "### Organizing Data\n",
    "\n",
    "All of the organizing work was done through our `runner.py` file. \n",
    "\n",
    "We first began by concatenating every data file we had into a single file called `combined_data.csv`. This allowed us to more easily access the all of the data at once.\n",
    "\n",
    "We manually sorted all the majors into 53 categories, which were organized into a dictionary. For example, majors like `Acting`, `Theatre Design`, `Dance`, and `Drama and Theatre Production` can be found under the key `Arts`.\n",
    "\n",
    "To find all the majors for this sorting, we ran the following code:"
   ]
  },
  {
   "cell_type": "code",
   "execution_count": 11,
   "metadata": {},
   "outputs": [
    {
     "name": "stdout",
     "output_type": "stream",
     "text": [
      "First 10 majors are: \n",
      "['Biomedical Sciences and Molecular Medicine' 'Business' 'Finance'\n",
      " 'Marketing' 'Exercise Physiology' 'Mechanical Engineering' 'Accounting'\n",
      " 'Nursing' 'Psychology' 'Logistics and Supply Chain Management']\n",
      "Total unique majors: 324\n"
     ]
    }
   ],
   "source": [
    "df = pd.read_csv('raw_data/combined_data.csv')\n",
    "unique_majors = df['Major'].unique()\n",
    "\n",
    "print(\"First 10 majors are: \")\n",
    "print(unique_majors[:10])\n",
    "print(\"Total unique majors: \" + str(len(unique_majors)))"
   ]
  },
  {
   "cell_type": "markdown",
   "metadata": {},
   "source": [
    "Three difference csvs were created to ease the visualization process. They were all placed in the folder `cleaned_data`. Processing the data as described below was done through Pandas: \n",
    "\n",
    "1. The first csv contained all the data from `combined_data.csv`, except that the major names were replaced with the broader categories that we had assigned. This was called `broader_major_combined_data.csv`\n",
    "\n",
    "2. The second csv summed the number of students in each state that chose to major in a certain topic. For example, all the students in Alabama who majored in Psycology were summed together. This was saved as `broader_major_summed_data.csv`\n",
    "\n",
    "3. The third csv summed the number of students who majored in a certain topic for all the states. For example, all the students in the US (all states from the list) were summed together. This was saved as `broader_major_whole_country.csv`"
   ]
  },
  {
   "cell_type": "markdown",
   "metadata": {},
   "source": [
    "## Result\n",
    "### Visualizing Data\n",
    "\n",
    "From the csvs created, we were able to use `matplotlib` to understand our results. From the three csvs listed above, we used the last two csvs (`broader_major_summed_data.csv` and `broader_major_whole_country.csv`) which contain the number of students in each state and across the country per major. \n",
    "\n",
    "#### Pie Chart\n",
    "First, to get a sense of the density of students in each major overall, we created a pie chart that shows the relative prevalence of each major in the US. \n",
    "In the pie chart, we can see that the major that is the most popular is business, followed by psychology, humanities, and nursing. Majors that are relatively less popular are majors such as culinary and religion. \n"
   ]
  },
  {
   "cell_type": "code",
   "execution_count": null,
   "metadata": {},
   "outputs": [],
   "source": [
    "# Function that creates the relative prevalence pie chart"
   ]
  },
  {
   "cell_type": "markdown",
   "metadata": {},
   "source": [
    "#### Bar Graph\n",
    "Secondly, we want to see how the overall popular majors are distributted in each state. Therefore, we took the number of students who are enrolled in the top 10 majors and sorted them by state. We then created a bar graph that contains 50 bars(one bar per state), each containing 10 sections which represent the number of students enrolled with the top 10 majors.\n",
    "This bar graph shows us that the ratio of top 10 majors' number of enrollment varies a lot across different states. California, for example, has more than 1/5 of enrollment in business major over all major, whereas connecticut has almost none out of all enrollment."
   ]
  },
  {
   "cell_type": "code",
   "execution_count": null,
   "metadata": {},
   "outputs": [],
   "source": [
    "# Function that creates the top 10 majors bar graph"
   ]
  },
  {
   "cell_type": "markdown",
   "metadata": {},
   "source": [
    "#### US States Map\n",
    "Thirdly, we want to compare the distribution of population in specific majors across different states. Using a public library, GeoPandas, we created a color coded US map (Hawaii and Alaska are excluded for the ease of graphing.) This map gives us the distribution of students in two of the popular majors (business and engineering) across the US. "
   ]
  },
  {
   "cell_type": "code",
   "execution_count": null,
   "metadata": {},
   "outputs": [],
   "source": [
    "\n",
    "# Function that creates the US map "
   ]
  },
  {
   "cell_type": "markdown",
   "metadata": {},
   "source": [
    "From the three graphs above, we concluded that the ratio of students in different majors varies significantly across state. We inferred that this difference could be due to the difference in state's economics structure, physical rescources, or career opportunities. But also this result is strongly biased based on the way we categorized majors and niche ranks colleges with certain metrics.\n"
   ]
  },
  {
   "cell_type": "markdown",
   "metadata": {},
   "source": [
    "### Conclusion\n",
    "The result of this project reveals that the pravelence of major varies in different states. But there is not a single dominant pattern. Multiple interpretations can be made based on the results and through different types of graphs. Despite what the visuals look like, there could always be some bias behind the information and how it is portrayed. For example, the information conveyed by graph 1 and graph 2 are completely different, but they are generated with the same data.\n",
    "[insert comparison graph: by number vs by percentage] \n",
    "\n",
    "***\n",
    "\n",
    "<What are the important insights that the reader should get from this project?\n",
    "What are the contextual or ethical implications of your topic or work?\n",
    "What lessons did you learn as you did the project?\n",
    "What were the most difficult, challenging, or frustrating parts of the project?\n",
    "In what ways would you extend or change your project if you had more time?>"
   ]
  }
 ],
 "metadata": {
  "interpreter": {
   "hash": "593c59989c26e30534e7758e73e88232c605fd8d859aaf8ffdc690004d73f0be"
  },
  "kernelspec": {
   "display_name": "Python 3.9.7 ('base')",
   "language": "python",
   "name": "python3"
  },
  "language_info": {
   "codemirror_mode": {
    "name": "ipython",
    "version": 3
   },
   "file_extension": ".py",
   "mimetype": "text/x-python",
   "name": "python",
   "nbconvert_exporter": "python",
   "pygments_lexer": "ipython3",
   "version": "3.9.7"
  },
  "orig_nbformat": 4
 },
 "nbformat": 4,
 "nbformat_minor": 2
}
